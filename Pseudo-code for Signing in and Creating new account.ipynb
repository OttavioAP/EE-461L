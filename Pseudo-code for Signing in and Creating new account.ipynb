{
 "cells": [
  {
   "cell_type": "code",
   "execution_count": 1,
   "id": "e10a60ae",
   "metadata": {},
   "outputs": [],
   "source": [
    "from pymongo import MongoClient \n",
    "from bson import ObjectId\n",
    "import datetime"
   ]
  },
  {
   "cell_type": "code",
   "execution_count": 2,
   "id": "c6e544bb",
   "metadata": {},
   "outputs": [],
   "source": [
    "client = MongoClient(\"???\") "
   ]
  },
  {
   "cell_type": "code",
   "execution_count": null,
   "id": "7893a8bb",
   "metadata": {},
   "outputs": [],
   "source": [
    "### THIS IS VERY ABSTRACT PSEUDO CODE STILL TO BE HEAVILY REVISED ###"
   ]
  },
  {
   "cell_type": "code",
   "execution_count": 3,
   "id": "dd9ae4b0",
   "metadata": {},
   "outputs": [],
   "source": [
    "### SIGN IN ###\n",
    "\n",
    "def Sign_in():\n",
    "    username_in = input(\"Please enter your username.\")\n",
    "    password_in = input(\"Please enter your password.\")\n",
    "\n",
    "    db = client[\"Final_Project\"]\n",
    "    users = db[\"Users\"]\n",
    "\n",
    "    result =  db.collection.find({     # find user with Username == username_in\n",
    "        Username : username_in\n",
    "    })\n",
    "\n",
    "    recorded_pass = # password of 'result (user with username == 'username')\n",
    "\n",
    "    if username_in #does not exist in results:\n",
    "        print(username_in \" does not exist.\")\n",
    "\n",
    "    elif password_in #does not match with the password in results:\n",
    "        print(\"incorrect password, please try again.\")\n",
    "        \n",
    "    elif #username and password both allign with a result:\n",
    "        #login to main page"
   ]
  },
  {
   "cell_type": "code",
   "execution_count": 4,
   "id": "99b6250b",
   "metadata": {},
   "outputs": [],
   "source": [
    "### CREATE NEW ACCOUNT ###\n",
    "\n",
    "def Create_new_account():\n",
    "    \n",
    "    # sign_in pop-up\n",
    "    \n",
    "    username_in = input(\"Please enter your username.\")\n",
    "    password_in = input(\"Please enter your password.\")\n",
    "    first_name_in = input(\"First name: \")\n",
    "    last_name_in = input(\"Last name: \")\n",
    "    \n",
    "    db = client[\"Final_Project\"]\n",
    "    users = db[\"Users\"]\n",
    "\n",
    "    person_data = {\n",
    "        \"Username\" : username_in,\n",
    "        \"Password\" : password_in,\n",
    "        \"Name\" : { \"Firstname\" : first_name_in , \"Last\" : last_name_in }, \n",
    "        \"Projects\" : [], \n",
    "       }\n",
    "\n",
    "    # login to main page using newly created account"
   ]
  }
 ],
 "metadata": {
  "kernelspec": {
   "display_name": "Python 3",
   "language": "python",
   "name": "python3"
  },
  "language_info": {
   "codemirror_mode": {
    "name": "ipython",
    "version": 3
   },
   "file_extension": ".py",
   "mimetype": "text/x-python",
   "name": "python",
   "nbconvert_exporter": "python",
   "pygments_lexer": "ipython3",
   "version": "3.8.8"
  }
 },
 "nbformat": 4,
 "nbformat_minor": 5
}
